{
  "nbformat": 4,
  "nbformat_minor": 0,
  "metadata": {
    "colab": {
      "provenance": [],
      "include_colab_link": true
    },
    "kernelspec": {
      "name": "python3",
      "display_name": "Python 3"
    },
    "language_info": {
      "name": "python"
    }
  },
  "cells": [
    {
      "cell_type": "markdown",
      "metadata": {
        "id": "view-in-github",
        "colab_type": "text"
      },
      "source": [
        "<a href=\"https://colab.research.google.com/github/verocony/TIL/blob/main/11%EA%B0%95_%EC%8B%A4%EC%8A%B5.ipynb\" target=\"_parent\"><img src=\"https://colab.research.google.com/assets/colab-badge.svg\" alt=\"Open In Colab\"/></a>"
      ]
    },
    {
      "cell_type": "markdown",
      "source": [
        "# 11강 실습"
      ],
      "metadata": {
        "id": "EtjZiTaxLjdH"
      }
    },
    {
      "cell_type": "markdown",
      "source": [
        "**11강 1절 모듈의 이해**"
      ],
      "metadata": {
        "id": "dM5Jl78KLnIG"
      }
    },
    {
      "cell_type": "markdown",
      "source": [
        "dir, help 함수 테스트"
      ],
      "metadata": {
        "id": "jLudepg7Lv6Y"
      }
    },
    {
      "cell_type": "code",
      "execution_count": 5,
      "metadata": {
        "id": "QjtNEdkcynR7",
        "outputId": "ef697a13-61ac-4084-97b9-9770ff79821e",
        "colab": {
          "base_uri": "https://localhost:8080/"
        }
      },
      "outputs": [
        {
          "output_type": "stream",
          "name": "stdout",
          "text": [
            "Welcome to Python 3.11's help utility! If this is your first time using\n",
            "Python, you should definitely check out the tutorial at\n",
            "https://docs.python.org/3.11/tutorial/.\n",
            "\n",
            "Enter the name of any module, keyword, or topic to get help on writing\n",
            "Python programs and using Python modules.  To get a list of available\n",
            "modules, keywords, symbols, or topics, enter \"modules\", \"keywords\",\n",
            "\"symbols\", or \"topics\".\n",
            "\n",
            "Each module also comes with a one-line summary of what it does; to list\n",
            "the modules whose name or summary contain a given string such as \"spam\",\n",
            "enter \"modules spam\".\n",
            "\n",
            "To quit this help utility and return to the interpreter,\n",
            "enter \"q\" or \"quit\".\n",
            "\n",
            "help> py\n",
            "Help on module py:\n",
            "\n",
            "NAME\n",
            "    py\n",
            "\n",
            "DESCRIPTION\n",
            "    # shim for pylib going away\n",
            "    # if pylib is installed this file will get skipped\n",
            "    # (`py/__init__.py` has higher precedence)\n",
            "\n",
            "DATA\n",
            "    __all__ = ['error', 'path']\n",
            "\n",
            "FILE\n",
            "    /usr/local/lib/python3.11/dist-packages/py.py\n",
            "\n",
            "\n",
            "help> pi\n",
            "No Python documentation found for 'pi'.\n",
            "Use help() to get the interactive help utility.\n",
            "Use help(str) for help on the str class.\n",
            "\n",
            "\n",
            "You are now leaving help and returning to the Python interpreter.\n",
            "If you want to ask for help on a particular object directly from the\n",
            "interpreter, you can type \"help(object)\".  Executing \"help('string')\"\n",
            "has the same effect as typing a particular string at the help> prompt.\n"
          ]
        }
      ],
      "source": [
        "import math\n",
        "# dir(math)\n",
        "# help(math.gamma)\n",
        "help()"
      ]
    },
    {
      "cell_type": "markdown",
      "source": [
        "math 모듈을 사용한 원뿔 계산 프로그램"
      ],
      "metadata": {
        "id": "BZcxx1KcM2eF"
      }
    },
    {
      "cell_type": "code",
      "source": [
        "import math\n",
        "\n",
        "print(math.pi)\n",
        "\n",
        "# 원뿔 클래스 정의\n",
        "class Cone :\n",
        "    def __init__(self, radius = 20, height = 30):\n",
        "        self.r = radius\n",
        "        self.h = height\n",
        "\n",
        "    def get_vol(self) :\n",
        "        return 1/3 * math.pi * self.r ** 2 * self.h\n",
        "\n",
        "    def get_surf(self) :\n",
        "        return math.pi * self.r ** 2 + math.pi * self.r * self.h\n"
      ],
      "metadata": {
        "id": "ZJwXQoQIM7uw",
        "outputId": "b78a99a5-dc8c-4c11-e667-8e68f4830a0c",
        "colab": {
          "base_uri": "https://localhost:8080/"
        }
      },
      "execution_count": 6,
      "outputs": [
        {
          "output_type": "stream",
          "name": "stdout",
          "text": [
            "3.141592653589793\n"
          ]
        }
      ]
    },
    {
      "cell_type": "markdown",
      "source": [
        "**11강 2절 유용한 모듈**"
      ],
      "metadata": {
        "id": "MwGVxn3sLy8T"
      }
    },
    {
      "cell_type": "markdown",
      "source": [
        "두 변의 길이 a, b와 끼인각 α인 삼각형의 넓이를 구하는 프로그램을 작성하시오.\n"
      ],
      "metadata": {
        "id": "A2gzGR3nM8nI"
      }
    },
    {
      "cell_type": "code",
      "source": [
        "import math\n",
        "from math import sin\n",
        "\n",
        "a, b = 10, 20\n",
        "# area = 1/ 2 * a * b * math.sin(math.radians(60))\n",
        "area = 1/ 2 * a * b * sin(math.radians(60))\n",
        "print(area)"
      ],
      "metadata": {
        "id": "CK6KXvIv3IZV",
        "outputId": "b294a219-8305-4aec-a6f5-985199d5133a",
        "colab": {
          "base_uri": "https://localhost:8080/"
        }
      },
      "execution_count": 8,
      "outputs": [
        {
          "output_type": "stream",
          "name": "stdout",
          "text": [
            "86.60254037844386\n"
          ]
        }
      ]
    },
    {
      "cell_type": "markdown",
      "source": [
        "1 ~ 45 숫자 6개를 입력 받아 당첨 숫자와\n",
        "비교하는 프로그램을 작성하시오.\n"
      ],
      "metadata": {
        "id": "UP6aKi22RoxB"
      }
    },
    {
      "cell_type": "code",
      "source": [
        "import random\n",
        "\n",
        "guess_str = input(\"1~45 번호 6개를 쉼표로 구분하여 입력하세요: \").split(\". \")\n",
        "guess_list = list()\n",
        "\n",
        "for i in guess_str:\n",
        "    guess_list.append(i)\n",
        "\n",
        "lotto_list = random.sample(range(1, 46, 1), 6)\n",
        "\n",
        "print(\"예상 번호는\", guess_list, \"입니다.\")\n",
        "print(\"추첨 번호는\", lotto_list, \"입니다.\")\n",
        "hit_count = 0;\n",
        "\n",
        "for guess in guess_list:\n",
        "    if guess in lotto_list:\n",
        "        hit_count = hit_count + 1\n",
        "\n",
        "print (\"축하합니다\" + str(hit_count) + \"개 맞췄습니다.\")"
      ],
      "metadata": {
        "id": "Btr-jR2m3KZA",
        "outputId": "39bcd9dd-8231-4a1f-e394-62b504ef0ac5",
        "colab": {
          "base_uri": "https://localhost:8080/"
        }
      },
      "execution_count": 15,
      "outputs": [
        {
          "output_type": "stream",
          "name": "stdout",
          "text": [
            "1~45 번호 6개를 쉼표로 구분하여 입력하세요: 6,28,19,24,22,3\n",
            "예상 번호는 ['6,28,19,24,22,3'] 입니다.\n",
            "추첨 번호는 [23, 33, 13, 36, 15, 18] 입니다.\n",
            "축하합니다0개 맞췄습니다.\n"
          ]
        }
      ]
    },
    {
      "cell_type": "markdown",
      "source": [
        "20번의 기회 안에 1 ~ 1000 사이의 숫자를\n",
        "맞히는 스무고개 프로그램을 작성하시오.\n"
      ],
      "metadata": {
        "id": "dZ3mQM7hR7z5"
      }
    },
    {
      "cell_type": "code",
      "source": [
        "import random\n",
        "hit_number = random.randint(1, 1001)\n",
        "# print(hit_number)\n",
        "\n",
        "guess_count_list = range(1, 21, 1)\n",
        "\n",
        "passfail = False\n",
        "\n",
        "for guess_count in guess_count_list :\n",
        "\n",
        "    # guess = int(input(\"숫자를 맞춰보세요 (\"+str(guess_count)+ \"번째 시도): \"))\n",
        "    guess = int(input(\"숫자를 맞춰보세요 (\" + str(guess_count) + \"번째 시도): \"))\n",
        "\n",
        "    if hit_number == guess:\n",
        "        passfail = True\n",
        "        break;\n",
        "    elif hit_number > guess:\n",
        "        print(str(\"guess\") + \"보다 큽니다.\", end=\"\")\n",
        "    else:\n",
        "        print(str(\"guess\") + \"보다 작습니다.\", end=\"\")\n",
        "\n",
        "if passfail == True:\n",
        "    print(\"맞췄습니다. 축하합니다\")\n",
        "else:\n",
        "    print(\"모든 기회를 다 사용. 다음 기회에 ! \")"
      ],
      "metadata": {
        "id": "XhmZvkWVSA9Z",
        "outputId": "39180b84-0fda-445a-a5e3-9f06ba9c94bb",
        "colab": {
          "base_uri": "https://localhost:8080/"
        }
      },
      "execution_count": 25,
      "outputs": [
        {
          "output_type": "stream",
          "name": "stdout",
          "text": [
            "숫자를 맞춰보세요 (1번째 시도): 1\n",
            "guess보다 큽니다.숫자를 맞춰보세요 (2번째 시도): 8\n",
            "guess보다 큽니다.숫자를 맞춰보세요 (3번째 시도): 9\n",
            "guess보다 큽니다.숫자를 맞춰보세요 (4번째 시도): 5\n",
            "guess보다 큽니다.숫자를 맞춰보세요 (5번째 시도): 8\n",
            "guess보다 큽니다.숫자를 맞춰보세요 (6번째 시도): 90\n",
            "guess보다 큽니다.숫자를 맞춰보세요 (7번째 시도): 66\n",
            "guess보다 큽니다.숫자를 맞춰보세요 (8번째 시도): 90\n",
            "guess보다 큽니다.숫자를 맞춰보세요 (9번째 시도): 70\n",
            "guess보다 큽니다.숫자를 맞춰보세요 (10번째 시도): 67\n",
            "guess보다 큽니다.숫자를 맞춰보세요 (11번째 시도): 89\n",
            "guess보다 큽니다.숫자를 맞춰보세요 (12번째 시도): 69\n",
            "guess보다 큽니다.숫자를 맞춰보세요 (13번째 시도): 70\n",
            "guess보다 큽니다.숫자를 맞춰보세요 (14번째 시도): 56\n",
            "guess보다 큽니다.숫자를 맞춰보세요 (15번째 시도): 78\n",
            "guess보다 큽니다.숫자를 맞춰보세요 (16번째 시도): 90\n",
            "guess보다 큽니다.숫자를 맞춰보세요 (17번째 시도): 45\n",
            "guess보다 큽니다.숫자를 맞춰보세요 (18번째 시도): 67\n",
            "guess보다 큽니다.숫자를 맞춰보세요 (19번째 시도): 78\n",
            "guess보다 큽니다.숫자를 맞춰보세요 (20번째 시도): 45\n",
            "guess보다 큽니다.모든 기회를 다 사용. 다음 기회에 ! \n"
          ]
        }
      ]
    },
    {
      "cell_type": "markdown",
      "source": [
        "1000보다 작은 소수 찾기 프로그램"
      ],
      "metadata": {
        "id": "EdHUe1hr3bho"
      }
    },
    {
      "cell_type": "code",
      "source": [
        "import time\n",
        "\n",
        "start_time = time.time()\n",
        "def is_prime(x):\n",
        "    for i in range(2, x):\n",
        "        if x % i == 0:\n",
        "            return False\n",
        "\n",
        "    return True\n",
        "\n",
        "prime_count = 0\n",
        "\n",
        "for i in range(2, 5001):\n",
        "    if is_prime(i):\n",
        "        prime_count = prime_count + 1\n",
        "        print(i, end=\". \")\n",
        "\n",
        "end_time = time.time()\n",
        "print(end_time - start_time, \"초 실행했습니다.\")"
      ],
      "metadata": {
        "id": "b0odUfVq3bNF",
        "outputId": "c206504d-8c32-45fd-df88-a146eeba1b16",
        "colab": {
          "base_uri": "https://localhost:8080/"
        }
      },
      "execution_count": 29,
      "outputs": [
        {
          "output_type": "stream",
          "name": "stdout",
          "text": [
            "2. 3. 5. 7. 11. 13. 17. 19. 23. 29. 31. 37. 41. 43. 47. 53. 59. 61. 67. 71. 73. 79. 83. 89. 97. 101. 103. 107. 109. 113. 127. 131. 137. 139. 149. 151. 157. 163. 167. 173. 179. 181. 191. 193. 197. 199. 211. 223. 227. 229. 233. 239. 241. 251. 257. 263. 269. 271. 277. 281. 283. 293. 307. 311. 313. 317. 331. 337. 347. 349. 353. 359. 367. 373. 379. 383. 389. 397. 401. 409. 419. 421. 431. 433. 439. 443. 449. 457. 461. 463. 467. 479. 487. 491. 499. 503. 509. 521. 523. 541. 547. 557. 563. 569. 571. 577. 587. 593. 599. 601. 607. 613. 617. 619. 631. 641. 643. 647. 653. 659. 661. 673. 677. 683. 691. 701. 709. 719. 727. 733. 739. 743. 751. 757. 761. 769. 773. 787. 797. 809. 811. 821. 823. 827. 829. 839. 853. 857. 859. 863. 877. 881. 883. 887. 907. 911. 919. 929. 937. 941. 947. 953. 967. 971. 977. 983. 991. 997. 1009. 1013. 1019. 1021. 1031. 1033. 1039. 1049. 1051. 1061. 1063. 1069. 1087. 1091. 1093. 1097. 1103. 1109. 1117. 1123. 1129. 1151. 1153. 1163. 1171. 1181. 1187. 1193. 1201. 1213. 1217. 1223. 1229. 1231. 1237. 1249. 1259. 1277. 1279. 1283. 1289. 1291. 1297. 1301. 1303. 1307. 1319. 1321. 1327. 1361. 1367. 1373. 1381. 1399. 1409. 1423. 1427. 1429. 1433. 1439. 1447. 1451. 1453. 1459. 1471. 1481. 1483. 1487. 1489. 1493. 1499. 1511. 1523. 1531. 1543. 1549. 1553. 1559. 1567. 1571. 1579. 1583. 1597. 1601. 1607. 1609. 1613. 1619. 1621. 1627. 1637. 1657. 1663. 1667. 1669. 1693. 1697. 1699. 1709. 1721. 1723. 1733. 1741. 1747. 1753. 1759. 1777. 1783. 1787. 1789. 1801. 1811. 1823. 1831. 1847. 1861. 1867. 1871. 1873. 1877. 1879. 1889. 1901. 1907. 1913. 1931. 1933. 1949. 1951. 1973. 1979. 1987. 1993. 1997. 1999. 2003. 2011. 2017. 2027. 2029. 2039. 2053. 2063. 2069. 2081. 2083. 2087. 2089. 2099. 2111. 2113. 2129. 2131. 2137. 2141. 2143. 2153. 2161. 2179. 2203. 2207. 2213. 2221. 2237. 2239. 2243. 2251. 2267. 2269. 2273. 2281. 2287. 2293. 2297. 2309. 2311. 2333. 2339. 2341. 2347. 2351. 2357. 2371. 2377. 2381. 2383. 2389. 2393. 2399. 2411. 2417. 2423. 2437. 2441. 2447. 2459. 2467. 2473. 2477. 2503. 2521. 2531. 2539. 2543. 2549. 2551. 2557. 2579. 2591. 2593. 2609. 2617. 2621. 2633. 2647. 2657. 2659. 2663. 2671. 2677. 2683. 2687. 2689. 2693. 2699. 2707. 2711. 2713. 2719. 2729. 2731. 2741. 2749. 2753. 2767. 2777. 2789. 2791. 2797. 2801. 2803. 2819. 2833. 2837. 2843. 2851. 2857. 2861. 2879. 2887. 2897. 2903. 2909. 2917. 2927. 2939. 2953. 2957. 2963. 2969. 2971. 2999. 3001. 3011. 3019. 3023. 3037. 3041. 3049. 3061. 3067. 3079. 3083. 3089. 3109. 3119. 3121. 3137. 3163. 3167. 3169. 3181. 3187. 3191. 3203. 3209. 3217. 3221. 3229. 3251. 3253. 3257. 3259. 3271. 3299. 3301. 3307. 3313. 3319. 3323. 3329. 3331. 3343. 3347. 3359. 3361. 3371. 3373. 3389. 3391. 3407. 3413. 3433. 3449. 3457. 3461. 3463. 3467. 3469. 3491. 3499. 3511. 3517. 3527. 3529. 3533. 3539. 3541. 3547. 3557. 3559. 3571. 3581. 3583. 3593. 3607. 3613. 3617. 3623. 3631. 3637. 3643. 3659. 3671. 3673. 3677. 3691. 3697. 3701. 3709. 3719. 3727. 3733. 3739. 3761. 3767. 3769. 3779. 3793. 3797. 3803. 3821. 3823. 3833. 3847. 3851. 3853. 3863. 3877. 3881. 3889. 3907. 3911. 3917. 3919. 3923. 3929. 3931. 3943. 3947. 3967. 3989. 4001. 4003. 4007. 4013. 4019. 4021. 4027. 4049. 4051. 4057. 4073. 4079. 4091. 4093. 4099. 4111. 4127. 4129. 4133. 4139. 4153. 4157. 4159. 4177. 4201. 4211. 4217. 4219. 4229. 4231. 4241. 4243. 4253. 4259. 4261. 4271. 4273. 4283. 4289. 4297. 4327. 4337. 4339. 4349. 4357. 4363. 4373. 4391. 4397. 4409. 4421. 4423. 4441. 4447. 4451. 4457. 4463. 4481. 4483. 4493. 4507. 4513. 4517. 4519. 4523. 4547. 4549. 4561. 4567. 4583. 4591. 4597. 4603. 4621. 4637. 4639. 4643. 4649. 4651. 4657. 4663. 4673. 4679. 4691. 4703. 4721. 4723. 4729. 4733. 4751. 4759. 4783. 4787. 4789. 4793. 4799. 4801. 4813. 4817. 4831. 4861. 4871. 4877. 4889. 4903. 4909. 4919. 4931. 4933. 4937. 4943. 4951. 4957. 4967. 4969. 4973. 4987. 4993. 4999. 0.09161877632141113 초 실행했습니다.\n"
          ]
        }
      ]
    },
    {
      "cell_type": "code",
      "source": [],
      "metadata": {
        "id": "W6PXYJ0-LAl5"
      },
      "execution_count": null,
      "outputs": []
    }
  ]
}