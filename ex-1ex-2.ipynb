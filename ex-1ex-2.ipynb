{
  "nbformat": 4,
  "nbformat_minor": 0,
  "metadata": {
    "colab": {
      "provenance": [],
      "toc_visible": true,
      "mount_file_id": "1d-Ii5Q7TdhAI64PQy0bBsn0DZO5gmalG",
      "authorship_tag": "ABX9TyPNi/Y46Tfzob0nVaFynG/l",
      "include_colab_link": true
    },
    "kernelspec": {
      "name": "python3",
      "display_name": "Python 3"
    },
    "language_info": {
      "name": "python"
    }
  },
  "cells": [
    {
      "cell_type": "markdown",
      "metadata": {
        "id": "view-in-github",
        "colab_type": "text"
      },
      "source": [
        "<a href=\"https://colab.research.google.com/github/verocony/TIL/blob/main/ex-1ex-2.ipynb\" target=\"_parent\"><img src=\"https://colab.research.google.com/assets/colab-badge.svg\" alt=\"Open In Colab\"/></a>"
      ]
    },
    {
      "cell_type": "code",
      "execution_count": 1,
      "metadata": {
        "colab": {
          "base_uri": "https://localhost:8080/"
        },
        "id": "k7IRX_wiFo1t",
        "outputId": "3c968453-c972-4aae-bfa3-d35ef8df5605"
      },
      "outputs": [
        {
          "output_type": "execute_result",
          "data": {
            "text/plain": [
              "8"
            ]
          },
          "metadata": {},
          "execution_count": 1
        }
      ],
      "source": [
        "3 + 5"
      ]
    },
    {
      "cell_type": "markdown",
      "source": [
        "**ex-1.py**"
      ],
      "metadata": {
        "id": "vcUEkophHAUF"
      }
    },
    {
      "cell_type": "code",
      "source": [
        "import sys\n",
        "# sys는 시스템 관련 모듈(system module)로 파이썬 내장 모듈이다. 이 sys 모듈을 현재 코드에서 사용할 수 있도록 import한다."
      ],
      "metadata": {
        "id": "AVs0jMAvTXVm"
      },
      "execution_count": 2,
      "outputs": []
    },
    {
      "cell_type": "code",
      "source": [
        "value = 0\n",
        "print('int형 기본 크기 -->', sys.getsizeof(value))\n",
        "# sys.getsizeof() : 객체의 메모리 크기를 바이트 단위로 반환해준다.\n",
        "# 그러므로 여기서는 value가 0이므로 정수형 (int)의 기본 크기를 출력한다."
      ],
      "metadata": {
        "colab": {
          "base_uri": "https://localhost:8080/"
        },
        "id": "MTHUQ_7XUc1R",
        "outputId": "ac2c3865-80d7-4372-b4a0-aabd877ab298"
      },
      "execution_count": 3,
      "outputs": [
        {
          "output_type": "stream",
          "name": "stdout",
          "text": [
            "int형 기본 크기 --> 28\n"
          ]
        }
      ]
    },
    {
      "cell_type": "code",
      "source": [
        "value = 0.0\n",
        "print('float형 기본 크기 -->', sys.getsizeof(value))\n",
        "# 위와 마찬가지로 sys.getsizeof()를 사용하여 value = 0.0이므로 실수형 (float)의 기본 크기를 출력한다."
      ],
      "metadata": {
        "colab": {
          "base_uri": "https://localhost:8080/"
        },
        "id": "bK6bTAQMWBhx",
        "outputId": "49e15406-a249-40aa-db32-4b1f0532d4de"
      },
      "execution_count": 5,
      "outputs": [
        {
          "output_type": "stream",
          "name": "stdout",
          "text": [
            "float형 기본 크기 --> 24\n"
          ]
        }
      ]
    },
    {
      "cell_type": "code",
      "source": [
        "value = True\n",
        "print('bool형 기본 크기 -->', sys.getsizeof(value))\n",
        "# sys.getsizeof()를 사용하여 value = True이므로 boolean(bool)형의 기본 크기를 출력한다."
      ],
      "metadata": {
        "colab": {
          "base_uri": "https://localhost:8080/"
        },
        "id": "1ifEpiWMWNQv",
        "outputId": "47729323-6d87-4d98-a020-3b82f9abe1ac"
      },
      "execution_count": 7,
      "outputs": [
        {
          "output_type": "stream",
          "name": "stdout",
          "text": [
            "bool형 기본 크기 --> 28\n"
          ]
        }
      ]
    },
    {
      "cell_type": "code",
      "source": [
        "value = ''\n",
        "print('str형 기본 크기 -->', sys.getsizeof(value))\n",
        "# sys.getsizeof()를 사용하여 value가 빈 문자열이므로 문자열(str)의 기본 크기를 출력한다."
      ],
      "metadata": {
        "colab": {
          "base_uri": "https://localhost:8080/"
        },
        "id": "MguurVOnWrFK",
        "outputId": "2cb094bd-64c7-48fd-8545-26644028b16a"
      },
      "execution_count": 8,
      "outputs": [
        {
          "output_type": "stream",
          "name": "stdout",
          "text": [
            "str형 기본 크기 --> 49\n"
          ]
        }
      ]
    },
    {
      "cell_type": "code",
      "source": [
        "value = []\n",
        "print('list형 기본 크기 -->', sys.getsizeof(value))\n",
        "# sys.getsizeof()를 사용하여 value가 빈 리스트이므로 리스트(list)의 기본 크기를 출력한다."
      ],
      "metadata": {
        "colab": {
          "base_uri": "https://localhost:8080/"
        },
        "id": "fCjpC6wkWtGy",
        "outputId": "c23ccd65-d341-48ea-c574-c76da72955e6"
      },
      "execution_count": 9,
      "outputs": [
        {
          "output_type": "stream",
          "name": "stdout",
          "text": [
            "list형 기본 크기 --> 56\n"
          ]
        }
      ]
    },
    {
      "cell_type": "code",
      "source": [
        "value = ()\n",
        "print('tuple형 기본 크기 -->', sys.getsizeof(value))\n",
        "# sys.getsizeof()를 사용하여 value가 빈 튜플이므로 튜플(tuple)의 기본 크기를 출력한다."
      ],
      "metadata": {
        "colab": {
          "base_uri": "https://localhost:8080/"
        },
        "id": "lU9BmHbtWvYu",
        "outputId": "7e9c0927-30fb-4879-df54-cae8698086e7"
      },
      "execution_count": 10,
      "outputs": [
        {
          "output_type": "stream",
          "name": "stdout",
          "text": [
            "tuple형 기본 크기 --> 40\n"
          ]
        }
      ]
    },
    {
      "cell_type": "code",
      "source": [
        "value = {}\n",
        "print('dictionary형 기본 크기 -->', sys.getsizeof(value))\n",
        "# sys.getsizeof()를 사용하여 value가 빈 딕셔너리이므로 딕셔너리(dictionary)의 기본 크기를 출력한다."
      ],
      "metadata": {
        "colab": {
          "base_uri": "https://localhost:8080/"
        },
        "id": "h8sll7TPWyFl",
        "outputId": "5e5954a7-6de4-41b4-a686-cc0ca3bf7ba9"
      },
      "execution_count": 11,
      "outputs": [
        {
          "output_type": "stream",
          "name": "stdout",
          "text": [
            "dictionary형 기본 크기 --> 64\n"
          ]
        }
      ]
    },
    {
      "cell_type": "code",
      "source": [
        "value = set()\n",
        "print('set형 기본 크기 -->', sys.getsizeof(value))\n",
        "# sys.getsizeof()를 사용하여 value가 빈 set이므로 집합(set)의 기본 크기를 출력한다."
      ],
      "metadata": {
        "colab": {
          "base_uri": "https://localhost:8080/"
        },
        "id": "hZyUhN_mW0L4",
        "outputId": "854fb103-5ad2-493d-f2ca-546865d42d58"
      },
      "execution_count": 12,
      "outputs": [
        {
          "output_type": "stream",
          "name": "stdout",
          "text": [
            "set형 기본 크기 --> 216\n"
          ]
        }
      ]
    },
    {
      "cell_type": "markdown",
      "source": [
        "**ex-2.py**"
      ],
      "metadata": {
        "id": "ekMZLuCWZ2RL"
      }
    },
    {
      "cell_type": "code",
      "source": [
        "money, c500, c100, c50, c10 = 0, 0, 0, 0, 0\n",
        "# 먼저 변수를 선언하고 초기화를 한다.\n",
        "# 사용자에게 입력받은 금액을 money, 500원 동전의 개수 c500, 100원 동전의 개수를 c100, 50원 동전의 개수를 c50, 10원 동전의 개수를 c10에 저장할 것이다.\n",
        "# 또 각 변수는 모두 0으로 초기화한다."
      ],
      "metadata": {
        "id": "6RDUjelqbD15"
      },
      "execution_count": 25,
      "outputs": []
    },
    {
      "cell_type": "code",
      "source": [
        "money=int(input(\"정수를 입력하시오\"))\n",
        "# 여기서 input() 함수를 사용해 사용자에게 '정수를 입력하시오' 라고 출력하고 값을 입력받는다.\n",
        "# int() 함수를 사용해 입력받은 값을 정수형(int)으로 변환해준다.\n",
        "# 그 값을 money변수에 저장한다."
      ],
      "metadata": {
        "id": "NApig26fbF1S"
      },
      "execution_count": null,
      "outputs": []
    },
    {
      "cell_type": "code",
      "source": [
        "c500 = money // 500\n",
        "# 첫번째로 500원짜리 개수를 계산한다.\n",
        "# 정수 나눗셈 연산자 //를 사용해서 money를 500으로 나눈 몫을 구한다."
      ],
      "metadata": {
        "id": "19Z-MJACbIEL"
      },
      "execution_count": 27,
      "outputs": []
    },
    {
      "cell_type": "code",
      "source": [
        "money %= 500\n",
        "# 나머지 연산자 %를 사용해서 500원 짜리를 제외한 나머지 금액을 다시 money에 저장한다."
      ],
      "metadata": {
        "id": "qDCZHKksfrFt"
      },
      "execution_count": null,
      "outputs": []
    },
    {
      "cell_type": "code",
      "source": [
        "c100 = money // 100\n",
        "# 다음으로 100원짜리 개수를 계산한다.\n",
        "# 마찬가지로 // 정수 나눗셈 연산자를 사용해서 남은 금액에서 100을 나눈 몫을 구해준다."
      ],
      "metadata": {
        "id": "8zzO_6xcbUTH"
      },
      "execution_count": 28,
      "outputs": []
    },
    {
      "cell_type": "code",
      "source": [
        "money %= 100\n",
        "# 다시 나머지 연산자 %를 사용해서 남은 금액을 계산해 money에 저장한다."
      ],
      "metadata": {
        "id": "s_GdfphYgIU6"
      },
      "execution_count": null,
      "outputs": []
    },
    {
      "cell_type": "code",
      "source": [
        "c50 = money // 50\n",
        "# 다음으로 50원짜리의 개수를 계산한다.\n",
        "# 위와 같이 // 정수 나눗셈 연산자를 사용해서 남은 금액에서 50으로 나눈 몫을 구한다."
      ],
      "metadata": {
        "id": "3WgOjtxvbWDN"
      },
      "execution_count": 29,
      "outputs": []
    },
    {
      "cell_type": "code",
      "source": [
        "money %= 50\n",
        "# 그런다음 다시 나머지 연산자 %를 사용해서 나머지 금액을 계산하여 money에 저장한다."
      ],
      "metadata": {
        "id": "XGgXHsrwg5da"
      },
      "execution_count": null,
      "outputs": []
    },
    {
      "cell_type": "code",
      "source": [
        "c10 = money // 10\n",
        "# 마지막으로 10원 짜리 개수를 계산한다.\n",
        "# 정수 나머지 연산자 //를 사용해서 남은 금액에서 10으로 나눈 몫을 구한다."
      ],
      "metadata": {
        "id": "ciN-rprfbeOH"
      },
      "execution_count": 30,
      "outputs": []
    },
    {
      "cell_type": "code",
      "source": [
        "money %= 10\n",
        "# 마지막으로 남은 금액 (10원짜리로도 나누지 못한 금액)도 나머지 연산자 %를 사용해서 계산하고 money에 저장한다."
      ],
      "metadata": {
        "id": "Iq4mu-UbhNq9"
      },
      "execution_count": null,
      "outputs": []
    },
    {
      "cell_type": "code",
      "source": [
        "# 결과를 출력해준다.\n",
        "print(\"\\n 500원짜리 ==> %d개\" % c500)\n",
        "# 줄바꿈(\\n)을 먼저 출력한 후, 500원짜리 동전의 개수를 출력한다.\n",
        "# %d는 정수(int)를 출력하기 위한 서식 문자이다.\n",
        "print(\" 100원짜리 ==> %d개 \" % c100)\n",
        "print(\" 50원짜리 ==> %d개 \" % c50)\n",
        "print(\" 10원짜리 ==> %d개 \" % c10)\n",
        "# 마찬가지로 100원, 50원, 10원쩌리 동전의 개수를 각각 출력해준다.\n",
        "print(\" 바꾸지 못한 잔돈 ==> %d원\" % money)\n",
        "# 바꾸지 못한 남은 잔돈 (10원보다 작은 금액)을 출력해준다."
      ],
      "metadata": {
        "colab": {
          "base_uri": "https://localhost:8080/"
        },
        "id": "Qm6nydC-enDN",
        "outputId": "d6f51995-8709-4ac8-8274-3fe9b861b822"
      },
      "execution_count": 31,
      "outputs": [
        {
          "output_type": "stream",
          "name": "stdout",
          "text": [
            "\n",
            " 500원짜리 ==> 6개\n",
            " 100원짜리 ==> 0개 \n",
            " 50원짜리 ==> 0개 \n",
            " 10원짜리 ==> 0개 \n",
            " 바꾸지 못한 잔돈 ==> 0원\n"
          ]
        }
      ]
    }
  ]
}